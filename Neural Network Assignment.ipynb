{
 "cells": [
  {
   "cell_type": "markdown",
   "id": "5db95b9f",
   "metadata": {},
   "source": [
    "# Neural Network Assignment"
   ]
  },
  {
   "cell_type": "code",
   "execution_count": 43,
   "id": "1b412219",
   "metadata": {},
   "outputs": [],
   "source": [
    "import numpy as np\n",
    "import pandas as pd\n",
    "import matplotlib.pyplot as plt"
   ]
  },
  {
   "cell_type": "code",
   "execution_count": 22,
   "id": "e93868b5",
   "metadata": {},
   "outputs": [],
   "source": [
    "#we will use MNIST dataset for neural network scratch validation\n",
    "# download the dataset\n",
    "from keras.datasets import mnist\n",
    "(X_train, y_train), (X_test, y_test) = mnist.load_data()"
   ]
  },
  {
   "cell_type": "code",
   "execution_count": 23,
   "id": "5ba11376",
   "metadata": {},
   "outputs": [
    {
     "name": "stdout",
     "output_type": "stream",
     "text": [
      "(60000, 28, 28)\n",
      "(10000, 28, 28)\n",
      "uint8\n"
     ]
    }
   ],
   "source": [
    "print(X_train.shape)\n",
    "print(X_test.shape)\n",
    "print(X_train[0].dtype)"
   ]
  },
  {
   "cell_type": "code",
   "execution_count": 24,
   "id": "0d0c6b96",
   "metadata": {},
   "outputs": [],
   "source": [
    "# we have to convert each image of (1,28,28) to (1, 784)\n",
    "X_train = X_train.reshape(-1, 784)\n",
    "X_test = X_test.reshape(-1, 784)"
   ]
  },
  {
   "cell_type": "code",
   "execution_count": 25,
   "id": "b37b6b9b",
   "metadata": {},
   "outputs": [
    {
     "name": "stdout",
     "output_type": "stream",
     "text": [
      "(60000, 784)\n",
      "(10000, 784)\n",
      "uint8\n"
     ]
    }
   ],
   "source": [
    "print(X_train.shape)\n",
    "print(X_test.shape)\n",
    "print(X_train[0].dtype)"
   ]
  },
  {
   "cell_type": "code",
   "execution_count": 26,
   "id": "68f48b08",
   "metadata": {},
   "outputs": [
    {
     "name": "stderr",
     "output_type": "stream",
     "text": [
      "C:\\Users\\Hp\\AppData\\Local\\Temp\\ipykernel_17968\\2323180211.py:2: DeprecationWarning: `np.float` is a deprecated alias for the builtin `float`. To silence this warning, use `float` by itself. Doing this will not modify any behavior and is safe. If you specifically wanted the numpy scalar type, use `np.float64` here.\n",
      "Deprecated in NumPy 1.20; for more details and guidance: https://numpy.org/devdocs/release/1.20.0-notes.html#deprecations\n",
      "  X_train = X_train.astype(np.float)\n",
      "C:\\Users\\Hp\\AppData\\Local\\Temp\\ipykernel_17968\\2323180211.py:3: DeprecationWarning: `np.float` is a deprecated alias for the builtin `float`. To silence this warning, use `float` by itself. Doing this will not modify any behavior and is safe. If you specifically wanted the numpy scalar type, use `np.float64` here.\n",
      "Deprecated in NumPy 1.20; for more details and guidance: https://numpy.org/devdocs/release/1.20.0-notes.html#deprecations\n",
      "  X_test = X_test.astype(np.float)\n"
     ]
    },
    {
     "name": "stdout",
     "output_type": "stream",
     "text": [
      "1.0\n",
      "0.0\n"
     ]
    }
   ],
   "source": [
    "# preprocessing the data: Images are represented as uint8 type from 0 to 255, but in machine learning, they are treated as float type from 0 to 1. It can be converted with the following code.\n",
    "X_train = X_train.astype(np.float)\n",
    "X_test = X_test.astype(np.float)\n",
    "X_train /= 255\n",
    "X_test /= 255\n",
    "print(X_train.max())\n",
    "print(X_train.min())"
   ]
  },
  {
   "cell_type": "code",
   "execution_count": 38,
   "id": "2a503669",
   "metadata": {},
   "outputs": [
    {
     "name": "stdout",
     "output_type": "stream",
     "text": [
      "(48000,)\n",
      "(48000, 10)\n",
      "float64\n"
     ]
    }
   ],
   "source": [
    "from sklearn.preprocessing import OneHotEncoder\n",
    "enc = OneHotEncoder(handle_unknown='ignore', sparse=False)\n",
    "y_train_one_hot = enc.fit_transform(y_train[:, np.newaxis])\n",
    "y_test_one_hot = enc.transform(y_test[:, np.newaxis])\n",
    "print(y_train.shape) # (60000,)\n",
    "print(y_train_one_hot.shape) # (60000, 10)\n",
    "print(y_train_one_hot.dtype) # float64"
   ]
  },
  {
   "cell_type": "code",
   "execution_count": 28,
   "id": "df3362b5",
   "metadata": {},
   "outputs": [
    {
     "name": "stdout",
     "output_type": "stream",
     "text": [
      "(48000, 784)\n",
      "(12000, 784)\n"
     ]
    }
   ],
   "source": [
    "from sklearn.model_selection import train_test_split\n",
    "X_train, X_val, y_train, y_val = train_test_split(X_train, y_train, test_size=0.2)\n",
    "print(X_train.shape)\n",
    "print(X_val.shape)"
   ]
  },
  {
   "cell_type": "markdown",
   "id": "13dc64f7",
   "metadata": {},
   "source": [
    "## Problem 1: Create a code that determines the initial value of the weight"
   ]
  },
  {
   "cell_type": "code",
   "execution_count": 29,
   "id": "4c3d5244",
   "metadata": {},
   "outputs": [],
   "source": [
    "lr = 0.0001 # learning rate to be used at back propagation function\n",
    "batch_size = 20 # batch size\n",
    "n_features = 784 # number of features\n",
    "sigma = 0.01\n",
    "n_nodes1 = 400 # number of nodes in first layer\n",
    "n_nodes2 = 200 # number of nodes in the second layer\n",
    "n_output = 10 # number of output classes(number of nodes in the third layer\n",
    "#if we take a neural network with three layers then the code for initializing the weights is\n",
    "W1 = sigma * np.random.randn(n_features, n_nodes1)\n",
    "W2 = sigma * np.random.randn(n_nodes1, n_nodes2)\n",
    "W3 = sigma * np.random.randn(n_nodes2, n_output)\n",
    "B1 = sigma * np.random.randn(1, n_nodes1)\n",
    "B2 = sigma * np.random.randn(1, n_nodes2)\n",
    "B3 = sigma * np.random.randn(1, n_output)"
   ]
  },
  {
   "cell_type": "markdown",
   "id": "ccc5544b",
   "metadata": {},
   "source": [
    "## Problem 2: Implementation of forward propagation\n",
    "\n",
    "- create forward propagation of a three-layer neural network . In the explanation below, the number of nodes is 400 for the first layer and 200 for the second layer.\n",
    "\n",
    "1. batch_size = 20 # batch size\n",
    "2. n_features = 784 # number of features\n",
    "3. n_nodes1 = 400 # number of nodes in first layer\n",
    "4. n_nodes2 = 200 # number of nodes in the second layer\n",
    "5. n_output = 10 # number of output classes(number of nodes in the      third layer\n",
    "\n",
    "<b><u> First Layer </u></b>\n",
    "\n",
    "$$ A_1 = X \\cdot W_1 + B_1 $$\n",
    "\n",
    "$X$ : feature vector (batch_size, n_features)\n",
    "\n",
    "$W_1$ : 1st layer weight (n_features, n_nodes1)\n",
    "\n",
    "$B_1$ : 1st layer bias (n_nodes1,)\n",
    "\n",
    "$A_1$ : output (batch_size, n_nodes1)\n",
    "\n",
    "<b> Activation function of the first layer </b>\n",
    "\n",
    "$$ Z_1 = f(A_1) $$\n",
    "\n",
    "$f()$ : activation function\n",
    "\n",
    "$Z_1$ output (batch_size, n_nodes1)\n",
    "\n",
    "\n",
    "<b><u> Second Layer </u></b>\n",
    "\n",
    "$$ A_2 = Z_1 \\cdot W_2 + B_2 $$\n",
    "\n",
    "$W_2$ : 2nd layer weight (n_nodes1, n_nodes2)\n",
    "\n",
    "$B_2$ : 2nd layer bias (n_nodes2,)\n",
    "\n",
    "$A_2$ : output (batch_size, n_nodes2)\n",
    "\n",
    "<b> Activation function of the second layer </b>\n",
    "\n",
    "$$ Z_2 = f(A_2) $$\n",
    "\n",
    "$f()$ : activation function\n",
    "\n",
    "$Z_2$ output (batch_size, n_nodes2)\n",
    "\n",
    "<b><u> Third Layer </u></b>\n",
    "\n",
    "$$ A_3 = Z_2 \\cdot W_3 + B_3 $$\n",
    "\n",
    "$W_3$ : 3rd layer weight (n_nodes2, n_output)\n",
    "\n",
    "$B_3$ : 3rd layer bias (n_output,)\n",
    "\n",
    "$A_3$ : Output (batch_size, n_output)\n",
    "\n",
    "<b> Activation function of the third layer </b>\n",
    "\n",
    "$$ Z_3 = softmax(A_3) $$\n",
    "\n",
    "$softmax()$ : softmax function\n",
    "\n",
    "$Z_3$ output (batch_size, n_output)\n",
    "\n",
    "$Z_3$ is an array of probabilities for each label (0-9)"
   ]
  },
  {
   "cell_type": "code",
   "execution_count": 10,
   "id": "71f1c1ff",
   "metadata": {},
   "outputs": [],
   "source": [
    "## ACTIVATION FUNCTIONS\n",
    "# step function\n",
    "def step_function(self,X):\n",
    "    result = np.array(X >= 0, dtype=np.int)\n",
    "    return result\n",
    "# relu function\n",
    "def relu(self,X):\n",
    "    result = np.max([np.zeros(X.shape), X], axis=0)   \n",
    "    return result\n",
    "# sigmoid function\n",
    "def sigmoid(self,X):\n",
    "    result = 1 / (1 + np.exp(-X))   \n",
    "    return result\n",
    "# tanh function\n",
    "def tanh(X):\n",
    "    result = (np.exp(X)-np.exp(-X))/(np.exp(X)+np.exp(-X))\n",
    "    # or\n",
    "    #  result = np.tanh(X)\n",
    "    return result"
   ]
  },
  {
   "cell_type": "markdown",
   "id": "9473e8b4",
   "metadata": {},
   "source": [
    "### Softmax function\n",
    "\n",
    "$$ Z_{3\\_k} = \\frac{exp(A_{3\\_k})}{\\sum_{i=1}^{n_c}exp(A_{3\\_i})} $$\n",
    "\n",
    "$Z_{3_k}$ : $k$th class probability vector (batch_size,)\n",
    "\n",
    "$A_{3_k}$ : the vector from the previous layer corresponding to the $k$th class (batch_size,)\n",
    "\n",
    "$n_c$ : number of classes, n_output\n",
    "\n",
    "$Z_3$ is calculated by calculating this for 10 classes"
   ]
  },
  {
   "cell_type": "code",
   "execution_count": 11,
   "id": "e01e13e4",
   "metadata": {},
   "outputs": [],
   "source": [
    "# softmax function where A3-k is substituted by X\n",
    "def softmax(X):\n",
    "    result = np.exp(X) / np.sum(np.exp(X), axis=1, keepdims=True)\n",
    "    return result"
   ]
  },
  {
   "cell_type": "code",
   "execution_count": 12,
   "id": "0830deff",
   "metadata": {},
   "outputs": [],
   "source": [
    "def forward(X):\n",
    "    A1 = X @ W1 + B1\n",
    "    Z1 = tanh(A1) # using tahn as activation function\n",
    "    A2 = Z1 @ W2 + B2\n",
    "    Z2 = tanh(A2) # using tahn as activation function\n",
    "    A3 = Z2 @ W3 + B3\n",
    "    Z3 = softmax(A3) # using softmax function at the final output"
   ]
  },
  {
   "cell_type": "code",
   "execution_count": 13,
   "id": "934004b9",
   "metadata": {},
   "outputs": [],
   "source": [
    "forward(X_train) # passing X_train data to forward propagation through the neural network"
   ]
  },
  {
   "cell_type": "markdown",
   "id": "da17e342",
   "metadata": {},
   "source": [
    "## Problem 3: Implementation of cross-entropy error\n",
    "\n",
    "- formula for the loss function\n",
    "$$ L = - \\frac{1}{n_b}\\sum_{i}^{n_b}\\sum_{j}^{n_c}y_{ij} log(z_{3\\_ij}) $$\n",
    "\n",
    "$y_{ij}$ : correct label of $k$th class of $j$th sample (scalar 0 or 1 in one-hot representation)\n",
    "\n",
    "$z_{3_ij}$ : Probability of $k$th class of $j$th sample (scalar)\n",
    "\n",
    "$n_{b}$ : batch size, batch_size\n",
    "\n",
    "$n_{c}$ : number of classes, n_output (10 for MNIST this time)"
   ]
  },
  {
   "cell_type": "code",
   "execution_count": 14,
   "id": "1cca081d",
   "metadata": {},
   "outputs": [],
   "source": [
    "def cross_entropy_error(y, Z):\n",
    "    L = - np.sum(y * np.log(Z+1e-7)) / len(y)\n",
    "    return L"
   ]
  },
  {
   "cell_type": "markdown",
   "id": "254525d6",
   "metadata": {},
   "source": [
    "## Problem 4: Implemetation of back propagation"
   ]
  },
  {
   "cell_type": "code",
   "execution_count": null,
   "id": "6d3f3968",
   "metadata": {},
   "outputs": [],
   "source": [
    "def backward(X, y):\n",
    "    dA3 = (Z3 - y)/batch_size\n",
    "    dW3 = Z2.T @ dA3\n",
    "    dB3 = np.sum(dA3, axis=0)\n",
    "    dZ2 = dA3 @ W3.T\n",
    "    dA2 = dZ2 * (1 - tanh(A2)**2)\n",
    "    dW2 = Z1.T @ dA2\n",
    "    dB2 = np.sum(dA2, axis=0)\n",
    "    dZ1 = dA2 @ W2.T\n",
    "    dA1 = dZ1 * (1 - tanh(A1)**2)\n",
    "    dW1 = X.T @ dA1\n",
    "    dB1 = np.sum(dA1, axis=0)\n",
    "    W3 -= lr * dW3\n",
    "    B3 -= lr * dB3\n",
    "    W2 -= lr * dW2\n",
    "    B2 -= lr * dB2\n",
    "    W1 -= lr * dW1\n",
    "    B1 -= lr * dB1"
   ]
  },
  {
   "cell_type": "markdown",
   "id": "bb44a213",
   "metadata": {},
   "source": [
    "## Question 5: Presumption"
   ]
  },
  {
   "cell_type": "code",
   "execution_count": 47,
   "id": "30de20f8",
   "metadata": {},
   "outputs": [],
   "source": [
    "def predict(self, X):\n",
    "    self.forward(X)\n",
    "    return np.argmax(self.Z3, axis=1)"
   ]
  },
  {
   "cell_type": "markdown",
   "id": "c4cfc46d",
   "metadata": {},
   "source": [
    "## Question 6: Learning and Estimation\n",
    "- Learn and estimate MNIST data and calculate Accuracy.\n",
    "\n",
    "- From earlier codes we will build a complete class and use it to learn and estimaate the data"
   ]
  },
  {
   "cell_type": "code",
   "execution_count": 40,
   "id": "7bb93854",
   "metadata": {},
   "outputs": [],
   "source": [
    "# class to calculate the  mini batch for use in stochastic gradient descent method\n",
    "class GetMiniBatch:\n",
    "    def __init__(self, X, y, batch_size = 20, seed = 0):\n",
    "        self.batch_size = batch_size\n",
    "        np.random.seed(seed)\n",
    "        shuffle_index = np.random.permutation(np.arange(X.shape[0]))\n",
    "        self._X = X[shuffle_index]\n",
    "        self._y = y[shuffle_index]\n",
    "        self._stop = np.ceil(X.shape[0]/self.batch_size).astype(np.int)\n",
    "        \n",
    "    def __len__(self):\n",
    "        return self._stop\n",
    "    \n",
    "    def __getitem__(self, item):\n",
    "        p0 = item*self.batch_size\n",
    "        p1 = item*self.batch_size + self.batch_size\n",
    "        return self._X[p0:p1], self._y[p0:p1]\n",
    "        \n",
    "    def __iter__(self):\n",
    "        self._counter = 0\n",
    "        return self\n",
    "    \n",
    "    def __next__(self):\n",
    "        if self._counter >= self._stop:\n",
    "            raise StopIteration()\n",
    "        p0 = self._counter*self.batch_size\n",
    "        p1 = self._counter*self.batch_size + self.batch_size\n",
    "        self._counter += 1\n",
    "        return self._X[p0:p1], self._y[p0:p1]"
   ]
  },
  {
   "cell_type": "code",
   "execution_count": 41,
   "id": "61c74315",
   "metadata": {},
   "outputs": [],
   "source": [
    "class ScratchSimpleNeuralNetrowkClassifier():\n",
    "    def __init__(self,batch_size = 20,n_features = 784,n_nodes1 = 400,n_nodes2 = 200,n_output = 10,sigma = 0.02,lr = 0.01,epoch = 10, verbose=True):\n",
    "        self.verbose = verbose\n",
    "        self.batch_size = batch_size\n",
    "        self.n_features = n_features\n",
    "        self.n_nodes1 = n_nodes1\n",
    "        self.n_nodes2 = n_nodes2 \n",
    "        self.n_output = n_output\n",
    "        self.sigma = sigma\n",
    "        self.lr = lr\n",
    "        self.epoch = epoch\n",
    "        self.loss_train = []\n",
    "        self.loss_val = []\n",
    "        self.W1 = self.sigma * np.random.randn(self.n_features, self.n_nodes1)\n",
    "        self.W2 = self.sigma * np.random.randn(self.n_nodes1, self.n_nodes2)\n",
    "        self.W3 = self.sigma * np.random.randn(self.n_nodes2, self.n_output)\n",
    "        self.B1 = self.sigma * np.random.randn(1, self.n_nodes1)\n",
    "        self.B2 = self.sigma * np.random.randn(1, self.n_nodes2)\n",
    "        self.B3 = self.sigma * np.random.randn(1, self.n_output)\n",
    "   \n",
    "    def fit(self, X, y, X_val=None, y_val=None):\n",
    "        for _ in range(self.epoch):\n",
    "            get_mini_batch = GetMiniBatch(X, y, batch_size=self.batch_size)\n",
    "            for mini_X_train, mini_y_train in get_mini_batch:\n",
    "                self.forward(mini_X_train)\n",
    "                self.backward(mini_X_train, mini_y_train)\n",
    "            self.forward(X)\n",
    "            self.loss_train.append(self.cross_entropy_error(y, self.Z3))\n",
    "            if X_val is not None:\n",
    "                self.forward(X_val)\n",
    "                self.loss_val.append(self.cross_entropy_error(y_val, self.Z3))\n",
    "        if self.verbose:\n",
    "            if X_val is None:\n",
    "                print(self.loss_train)\n",
    "            else:\n",
    "                print(self.loss_train,self.loss_val)\n",
    "    \n",
    "    def forward(self, X):\n",
    "        self.A1 = X @ self.W1 + self.B1\n",
    "        self.Z1 = self.tanh_function(self.A1)\n",
    "        self.A2 = self.Z1 @ self.W2 + self.B2\n",
    "        self.Z2 = self.tanh_function(self.A2)\n",
    "        self.A3 = self.Z2 @ self.W3 + self.B3\n",
    "        self.Z3 = self.softmax(self.A3)\n",
    "    \n",
    "    def backward(self, X, y):\n",
    "        dA3 = (self.Z3 - y)/self.batch_size\n",
    "        dW3 = self.Z2.T @ dA3\n",
    "        dB3 = np.sum(dA3, axis=0)\n",
    "        dZ2 = dA3 @ self.W3.T\n",
    "        dA2 = dZ2 * (1 - self.tanh_function(self.A2)**2)\n",
    "        dW2 = self.Z1.T @ dA2\n",
    "        dB2 = np.sum(dA2, axis=0)\n",
    "        dZ1 = dA2 @ self.W2.T\n",
    "        dA1 = dZ1 * (1 - self.tanh_function(self.A1)**2)\n",
    "        dW1 = X.T @ dA1\n",
    "        dB1 = np.sum(dA1, axis=0)\n",
    "        self.W3 -= self.lr * dW3\n",
    "        self.B3 -= self.lr * dB3\n",
    "        self.W2 -= self.lr * dW2\n",
    "        self.B2 -= self.lr * dB2\n",
    "        self.W1 -= self.lr * dW1\n",
    "        self.B1 -= self.lr * dB1\n",
    "            \n",
    "    def tanh_function(self, A):\n",
    "        result = (np.exp(A)-np.exp(-A))/(np.exp(A)+np.exp(-A))\n",
    "        return result\n",
    "    \n",
    "    def softmax(self, A):\n",
    "        result = np.exp(A) / np.sum(np.exp(A), axis=1, keepdims=True)\n",
    "        return result\n",
    "\n",
    "    def cross_entropy_error(self, y, Z):\n",
    "        L = - np.sum(y * np.log(Z+1e-7)) / len(y)\n",
    "        return L\n",
    "        \n",
    "    def predict(self, X):\n",
    "        self.forward(X)\n",
    "        return np.argmax(self.Z3, axis=1)"
   ]
  },
  {
   "cell_type": "code",
   "execution_count": 42,
   "id": "63d1b9e5",
   "metadata": {},
   "outputs": [
    {
     "name": "stderr",
     "output_type": "stream",
     "text": [
      "C:\\Users\\Hp\\AppData\\Local\\Temp\\ipykernel_17968\\1173429722.py:9: DeprecationWarning: `np.int` is a deprecated alias for the builtin `int`. To silence this warning, use `int` by itself. Doing this will not modify any behavior and is safe. When replacing `np.int`, you may wish to use e.g. `np.int64` or `np.int32` to specify the precision. If you wish to review your current use, check the release note link for additional information.\n",
      "Deprecated in NumPy 1.20; for more details and guidance: https://numpy.org/devdocs/release/1.20.0-notes.html#deprecations\n",
      "  self._stop = np.ceil(X.shape[0]/self.batch_size).astype(np.int)\n"
     ]
    },
    {
     "name": "stdout",
     "output_type": "stream",
     "text": [
      "[0.43305210633578683, 0.3307388899599091, 0.2945049640756209, 0.271708755006694, 0.2534251290431309, 0.23662099469632455, 0.22040735661199673, 0.20480078400113272, 0.1901032224400253, 0.17655339231058229] [0.4197752245603694, 0.3212404463549458, 0.28856229027903985, 0.2685631789696204, 0.25256348951625435, 0.23770092053309436, 0.22320432819739303, 0.2091805633769376, 0.1959891239742341, 0.18392098681899588]\n"
     ]
    }
   ],
   "source": [
    "nn = ScratchSimpleNeuralNetrowkClassifier(epoch=10)\n",
    "nn.fit(X_train,y_train_one_hot, X_test, y_test_one_hot)"
   ]
  },
  {
   "cell_type": "code",
   "execution_count": 70,
   "id": "b7309c41",
   "metadata": {},
   "outputs": [
    {
     "data": {
      "text/plain": [
       "array([1, 4, 0, ..., 5, 2, 7], dtype=int64)"
      ]
     },
     "execution_count": 70,
     "metadata": {},
     "output_type": "execute_result"
    }
   ],
   "source": [
    "#presumption\n",
    "pred_train = nn.predict(X_train)\n",
    "pred_train"
   ]
  },
  {
   "cell_type": "code",
   "execution_count": 71,
   "id": "f7b06fb2",
   "metadata": {},
   "outputs": [
    {
     "data": {
      "text/plain": [
       "0.9494166666666667"
      ]
     },
     "execution_count": 71,
     "metadata": {},
     "output_type": "execute_result"
    }
   ],
   "source": [
    "#Accuracy calculation\n",
    "from sklearn.metrics import accuracy_score\n",
    "accuracy = accuracy_score(y_train, pred_train)\n",
    "accuracy"
   ]
  },
  {
   "cell_type": "markdown",
   "id": "44c2f767",
   "metadata": {},
   "source": [
    "## Problem 7: Learning Curve Plot"
   ]
  },
  {
   "cell_type": "code",
   "execution_count": 44,
   "id": "130a4fdb",
   "metadata": {},
   "outputs": [
    {
     "data": {
      "text/plain": [
       "[<matplotlib.lines.Line2D at 0x12385b448b0>]"
      ]
     },
     "execution_count": 44,
     "metadata": {},
     "output_type": "execute_result"
    },
    {
     "data": {
      "image/png": "[encoded data removed]",
      "text/plain": [
       "<Figure size 640x480 with 1 Axes>"
      ]
     },
     "metadata": {},
     "output_type": "display_data"
    }
   ],
   "source": [
    "plt.plot(range(nn.epoch), nn.loss_train)"
   ]
  },
  {
   "cell_type": "markdown",
   "id": "51d3aed4",
   "metadata": {},
   "source": [
    "## Question 8: (Advanced Task) Confirmation of                                             misclassification"
   ]
  },
  {
   "cell_type": "code",
   "execution_count": 61,
   "id": "eb40e6b3",
   "metadata": {},
   "outputs": [
    {
     "name": "stderr",
     "output_type": "stream",
     "text": [
      "C:\\Users\\Hp\\AppData\\Local\\Temp\\ipykernel_17968\\3695066595.py:3: DeprecationWarning: elementwise comparison failed; this will raise an error in the future.\n",
      "  true_false = pred_train==y_val\n",
      "C:\\Users\\Hp\\AppData\\Local\\Temp\\ipykernel_17968\\3695066595.py:4: DeprecationWarning: `np.int` is a deprecated alias for the builtin `int`. To silence this warning, use `int` by itself. Doing this will not modify any behavior and is safe. When replacing `np.int`, you may wish to use e.g. `np.int64` or `np.int32` to specify the precision. If you wish to review your current use, check the release note link for additional information.\n",
      "Deprecated in NumPy 1.20; for more details and guidance: https://numpy.org/devdocs/release/1.20.0-notes.html#deprecations\n",
      "  false_list = np.where(true_false==False)[0].astype(np.int)\n"
     ]
    },
    {
     "data": {
      "image/png": "[encoded data removed]",
      "text/plain": [
       "<Figure size 600x600 with 1 Axes>"
      ]
     },
     "metadata": {},
     "output_type": "display_data"
    }
   ],
   "source": [
    "num = 36\n",
    "\n",
    "true_false = pred_train==y_val\n",
    "false_list = np.where(true_false==False)[0].astype(np.int)\n",
    "\n",
    "if false_list.shape[0] < num:\n",
    "    num = false_list.shape[0]\n",
    "fig = plt.figure(figsize=(6, 6))\n",
    "fig.subplots_adjust(left=0, right=0.8,  bottom=0, top=0.8, hspace=1, wspace=0.5)\n",
    "for i in range(num):\n",
    "    ax = fig.add_subplot(6, 6, i + 1, xticks=[], yticks=[])\n",
    "    ax.set_title(\"{} / {}\".format(pred_train[false_list[i]],y_val[false_list[i]]))\n",
    "    ax.imshow(X_val.reshape(-1,28,28)[false_list[i]], cmap='gray')"
   ]
  },
  {
   "cell_type": "code",
   "execution_count": null,
   "id": "350f814f",
   "metadata": {},
   "outputs": [],
   "source": []
  }
 ],
 "metadata": {
  "kernelspec": {
   "display_name": "Python 3 (ipykernel)",
   "language": "python",
   "name": "python3"
  },
  "language_info": {
   "codemirror_mode": {
    "name": "ipython",
    "version": 3
   },
   "file_extension": ".py",
   "mimetype": "text/x-python",
   "name": "python",
   "nbconvert_exporter": "python",
   "pygments_lexer": "ipython3",
   "version": "3.8.10"
  }
 },
 "nbformat": 4,
 "nbformat_minor": 5
}
